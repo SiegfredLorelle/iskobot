{
  "nbformat": 4,
  "nbformat_minor": 0,
  "metadata": {
    "colab": {
      "provenance": [],
      "authorship_tag": "ABX9TyOShpO5+5/cGKcSuftNuIYW",
      "include_colab_link": true
    },
    "kernelspec": {
      "name": "python3",
      "display_name": "Python 3"
    },
    "language_info": {
      "name": "python"
    }
  },
  "cells": [
    {
      "cell_type": "markdown",
      "metadata": {
        "id": "view-in-github",
        "colab_type": "text"
      },
      "source": [
        "<a href=\"https://colab.research.google.com/github/SiegfredLorelle/iskobot/blob/main/iskobot_text_to_speech.ipynb\" target=\"_parent\"><img src=\"https://colab.research.google.com/assets/colab-badge.svg\" alt=\"Open In Colab\"/></a>"
      ]
    },
    {
      "cell_type": "markdown",
      "source": [
        "# TEXT TO SPEECH using TTS model"
      ],
      "metadata": {
        "id": "5vgU-ewzlrDh"
      }
    },
    {
      "cell_type": "markdown",
      "source": [
        "# Setup"
      ],
      "metadata": {
        "id": "1B7nnRFXvnUC"
      }
    },
    {
      "cell_type": "code",
      "source": [
        "%%capture\n",
        "\n",
        "# Install the TTS (Text-to-Speech) library directly from PyPI\n",
        "!pip install TTS"
      ],
      "metadata": {
        "id": "SFjoE9yCvnHT"
      },
      "execution_count": 32,
      "outputs": []
    },
    {
      "cell_type": "markdown",
      "source": [
        "# Setup model"
      ],
      "metadata": {
        "id": "RWuX-DodzAIH"
      }
    },
    {
      "cell_type": "code",
      "source": [
        "import torch\n",
        "from TTS.api import TTS\n",
        "\n",
        "# Get device\n",
        "device = \"cuda\" if torch.cuda.is_available() else \"cpu\"\n",
        "\n",
        "# Init TTS and specify model here\n",
        "tts = TTS(\"tts_models/multilingual/multi-dataset/xtts_v2\").to(device)"
      ],
      "metadata": {
        "colab": {
          "base_uri": "https://localhost:8080/"
        },
        "id": "ZT9MNU_ZwHeo",
        "outputId": "6306387d-6cc8-4598-a5c8-eea5b2de9708"
      },
      "execution_count": 33,
      "outputs": [
        {
          "output_type": "stream",
          "name": "stdout",
          "text": [
            " > tts_models/multilingual/multi-dataset/xtts_v2 is already downloaded.\n",
            " > Using model: xtts\n"
          ]
        },
        {
          "output_type": "stream",
          "name": "stderr",
          "text": [
            "/content/TTS/TTS/TTS/TTS/tts/layers/xtts/xtts_manager.py:5: FutureWarning: You are using `torch.load` with `weights_only=False` (the current default value), which uses the default pickle module implicitly. It is possible to construct malicious pickle data which will execute arbitrary code during unpickling (See https://github.com/pytorch/pytorch/blob/main/SECURITY.md#untrusted-models for more details). In a future release, the default value for `weights_only` will be flipped to `True`. This limits the functions that could be executed during unpickling. Arbitrary objects will no longer be allowed to be loaded via this mode unless they are explicitly allowlisted by the user via `torch.serialization.add_safe_globals`. We recommend you start setting `weights_only=True` for any use case where you don't have full control of the loaded file. Please open an issue on GitHub for any issues related to this experimental feature.\n",
            "  self.speakers = torch.load(speaker_file_path)\n",
            "/content/TTS/TTS/TTS/TTS/utils/io.py:54: FutureWarning: You are using `torch.load` with `weights_only=False` (the current default value), which uses the default pickle module implicitly. It is possible to construct malicious pickle data which will execute arbitrary code during unpickling (See https://github.com/pytorch/pytorch/blob/main/SECURITY.md#untrusted-models for more details). In a future release, the default value for `weights_only` will be flipped to `True`. This limits the functions that could be executed during unpickling. Arbitrary objects will no longer be allowed to be loaded via this mode unless they are explicitly allowlisted by the user via `torch.serialization.add_safe_globals`. We recommend you start setting `weights_only=True` for any use case where you don't have full control of the loaded file. Please open an issue on GitHub for any issues related to this experimental feature.\n",
            "  return torch.load(f, map_location=map_location, **kwargs)\n"
          ]
        }
      ]
    },
    {
      "cell_type": "markdown",
      "source": [
        "# Run model"
      ],
      "metadata": {
        "id": "hqIWPKDJ8dmj"
      }
    },
    {
      "cell_type": "code",
      "source": [
        "%%capture\n",
        "\n",
        "# For preprocessing Japanese text\n",
        "!pip install cutlet\n",
        "!apt install mecab libmecab-dev mecab-ipadic-utf8\n",
        "!pip install mecab-python3 fugashi unidic-lite"
      ],
      "metadata": {
        "id": "oNieCAmiiTa9"
      },
      "execution_count": 34,
      "outputs": []
    },
    {
      "cell_type": "code",
      "source": [
        "from typing import List\n",
        "import os\n",
        "import fugashi\n",
        "\n",
        "def generate_tts_files(texts: dict, speaker_wav: str, languages: List[str], output_dir: str):\n",
        "    \"\"\"\n",
        "    Generates text-to-speech files for the given texts in specified languages.\n",
        "\n",
        "    Args:\n",
        "        texts (dict): A dictionary where keys are language codes and values are the corresponding text in that language.\n",
        "        speaker_wav (str): Path to the speaker's WAV file for voice cloning.\n",
        "        languages (List[str]): List of language codes.\n",
        "        output_dir (str): Directory where the output files will be saved.\n",
        "    \"\"\"\n",
        "    # Ensure output directory exists\n",
        "    if not os.path.exists(output_dir):\n",
        "        os.makedirs(output_dir)\n",
        "\n",
        "    # Iterate over each language and create the TTS file\n",
        "    for lang in languages:\n",
        "        text = texts.get(lang, \"\")\n",
        "        if text:  # Ensure there's text for this language\n",
        "            file_path = os.path.join(output_dir, f\"output_{lang}.wav\")\n",
        "\n",
        "            # Preprocess Japanese text if needed\n",
        "            if lang == \"ja\":\n",
        "                tagger = fugashi.Tagger('-Owakati')  # Initialize fugashi with -Owakati option\n",
        "                text = \" \".join(tagger.parse(text))  # Tokenize using fugashi\n",
        "\n",
        "            tts.tts_to_file(\n",
        "                text=text,\n",
        "                speaker_wav=speaker_wav,\n",
        "                language=lang,\n",
        "                file_path=file_path\n",
        "            )\n",
        "            print(f\"Generated: {file_path}\")\n",
        "        else:\n",
        "            print(f\"No text available for language code: {lang}\")\n",
        "\n",
        "# Texts in different languages\n",
        "texts = {\n",
        "    \"en\": \"Hi, I’m Iskobot—a chatbot designed to assist students with their general and academic inquiries. Let’s learn and grow together!\",\n",
        "    \"es\": \"¡Hola, soy Iskobot, un chatbot diseñado para ayudar a los estudiantes con sus consultas generales y académicas! ¡Aprendamos y crezcamos juntos!\",\n",
        "    \"fr\": \"Salut, je suis Iskobot, un chatbot conçu pour aider les étudiants avec leurs questions générales et académiques. Apprenons et grandissons ensemble !\",\n",
        "    \"de\": \"Hallo, ich bin Iskobot – ein Chatbot, der entwickelt wurde, um Studierende bei ihren allgemeinen und akademischen Anfragen zu unterstützen. Lass uns zusammen lernen und wachsen!\",\n",
        "    \"it\": \"Ciao, sono Iskobot, un chatbot progettato per assistere gli studenti nelle loro richieste generali e accademiche. Impariamo e cresciamo insieme!\",\n",
        "    \"pt\": \"Oi, sou Iskobot, um chatbot projetado para ajudar os estudantes com suas consultas gerais e acadêmicas. Vamos aprender e crescer juntos!\",\n",
        "    \"pl\": \"Cześć, jestem Iskobot, chatbot stworzony, aby pomagać studentom w ich ogólnych i akademickich pytaniach. Uczmy się i rośnijmy razem!\",\n",
        "    \"tr\": \"Merhaba, ben Iskobot—öğrencilere genel ve akademik sorularında yardımcı olmak için tasarlanmış bir sohbet robotuyum. Hadi birlikte öğrenelim ve büyüyelim!\",\n",
        "    \"ru\": \"Привет, я Искобот — чат-бот, созданный для помощи студентам с их общими и академическими вопросами. Давайте учиться и расти вместе!\",\n",
        "    \"nl\": \"Hallo, ik ben Iskobot, een chatbot die is ontworpen om studenten te helpen met hun algemene en academische vragen. Laten we samen leren en groeien!\",\n",
        "    \"cs\": \"Ahoj, jsem Iskobot, chatbot navržený k pomoci studentům s jejich obecným a akademickým dotazům. Pojďme se učit a růst společně!\",\n",
        "    \"ar\": \"مرحبًا، أنا إيسكوبوت، روبوت دردشة مصمم لمساعدة الطلاب في استفساراتهم العامة والأكاديمية. دعونا نتعلم وننمو معًا!\",\n",
        "    \"zh-cn\": \"你好，我是 Iskobot——一个旨在帮助学生解答一般和学术问题的聊天机器人。让我们一起学习和成长吧！\",\n",
        "    \"ja\": \"こんにちは、私は Iskobot です—学生の一般的な質問や学問的な問いに答えるために設計されたチャットボットです。一緒に学び、成長しましょう！\",\n",
        "    \"hu\": \"Szia, én vagyok Iskobot—a chatbot, amely a diákoknak segít általános és akadémiai kérdéseikben. Tanuljunk és növekedjünk együtt!\",\n",
        "    \"ko\": \"안녕하세요, 저는 Iskobot입니다—학생들의 일반적인 질문과 학문적인 질문을 돕기 위해 설계된 챗봇입니다. 함께 배우고 성장해요!\",\n",
        "    \"hi\": \"नमस्ते, मैं इस्कोबोट हूं—एक चैटबॉट जिसे छात्रों की सामान्य और शैक्षणिक प्रश्नों में सहायता करने के लिए डिज़ाइन किया गया है। आइए साथ में सीखें और बढ़ें!\"\n",
        "}\n",
        "\n",
        "# Specify the speaker's WAV file and the output directory\n",
        "speaker_wav = \"/content/iskobot_sample_audio.wav\"\n",
        "output_dir = \"/content/tts_outputs\"\n",
        "languages = list(texts.keys())\n",
        "\n",
        "# Call the function to generate the TTS files\n",
        "generate_tts_files(texts=texts, speaker_wav=speaker_wav, languages=languages, output_dir=output_dir)"
      ],
      "metadata": {
        "colab": {
          "base_uri": "https://localhost:8080/"
        },
        "id": "sZLVvNx86LpN",
        "outputId": "e645d923-2525-40c4-9aaa-9bba652b867a"
      },
      "execution_count": 35,
      "outputs": [
        {
          "output_type": "stream",
          "name": "stdout",
          "text": [
            " > Text splitted to sentences.\n",
            "['Hi, I’m Iskobot—a chatbot designed to assist students with their general and academic inquiries.', 'Let’s learn and grow together!']\n",
            " > Processing time: 66.63389658927917\n",
            " > Real-time factor: 6.7751098374723595\n",
            "Generated: /content/tts_outputs/output_en.wav\n",
            " > Text splitted to sentences.\n",
            "['¡Hola, soy Iskobot, un chatbot diseñado para ayudar a los estudiantes con sus consultas generales y académicas!', '¡Aprendamos y crezcamos juntos!']\n",
            " > Processing time: 71.6438820362091\n",
            " > Real-time factor: 6.251375517991052\n",
            "Generated: /content/tts_outputs/output_es.wav\n",
            " > Text splitted to sentences.\n",
            "['Salut, je suis Iskobot, un chatbot conçu pour aider les étudiants avec leurs questions générales et académiques.', 'Apprenons et grandissons ensemble !']\n",
            " > Processing time: 105.4228093624115\n",
            " > Real-time factor: 6.362696380510351\n",
            "Generated: /content/tts_outputs/output_fr.wav\n",
            " > Text splitted to sentences.\n",
            "['Hallo, ich bin Iskobot – ein Chatbot, der entwickelt wurde, um Studierende bei ihren allgemeinen und akademischen Anfragen zu unterstützen.', 'Lass uns zusammen lernen und wachsen!']\n",
            " > Processing time: 74.76039695739746\n",
            " > Real-time factor: 6.33090648008562\n",
            "Generated: /content/tts_outputs/output_de.wav\n",
            " > Text splitted to sentences.\n",
            "['Ciao, sono Iskobot, un chatbot progettato per assistere gli studenti nelle loro richieste generali e accademiche.', 'Impariamo e cresciamo insieme!']\n",
            " > Processing time: 61.26825428009033\n",
            " > Real-time factor: 6.1282706437617565\n",
            "Generated: /content/tts_outputs/output_it.wav\n",
            " > Text splitted to sentences.\n",
            "['Oi, sou Iskobot, um chatbot projetado para ajudar os estudantes com suas consultas gerais e acadêmicas.', 'Vamos aprender e crescer juntos!']\n",
            " > Processing time: 63.55100107192993\n",
            " > Real-time factor: 6.054280613317672\n",
            "Generated: /content/tts_outputs/output_pt.wav\n",
            " > Text splitted to sentences.\n",
            "['Cześć, jestem Iskobot, chatbot stworzony, aby pomagać studentom w ich ogólnych i akademickich pytaniach.', 'Uczmy się i rośnijmy razem!']\n",
            " > Processing time: 58.80393385887146\n",
            " > Real-time factor: 6.16080061952693\n",
            "Generated: /content/tts_outputs/output_pl.wav\n",
            " > Text splitted to sentences.\n",
            "['Merhaba, ben Iskobot—öğrencilere genel ve akademik sorularında yardımcı olmak için tasarlanmış bir sohbet robotuyum.', 'Hadi birlikte öğrenelim ve büyüyelim!']\n",
            " > Processing time: 78.11017560958862\n",
            " > Real-time factor: 6.240323812287787\n",
            "Generated: /content/tts_outputs/output_tr.wav\n",
            " > Text splitted to sentences.\n",
            "['Привет, я Искобот — чат-бот, созданный для помощи студентам с их общими и академическими вопросами.', 'Давайте учиться и расти вместе!']\n",
            " > Processing time: 72.65084791183472\n",
            " > Real-time factor: 6.288277212567341\n",
            "Generated: /content/tts_outputs/output_ru.wav\n",
            " > Text splitted to sentences.\n",
            "['Hallo, ik ben Iskobot, een chatbot die is ontworpen om studenten te helpen met hun algemene en academische vragen.', 'Laten we samen leren en groeien!']\n",
            " > Processing time: 58.85716247558594\n",
            " > Real-time factor: 6.166377302468213\n",
            "Generated: /content/tts_outputs/output_nl.wav\n",
            " > Text splitted to sentences.\n",
            "['Ahoj, jsem Iskobot, chatbot navržený k pomoci studentům s jejich obecným a akademickým dotazům.', 'Pojďme se učit a růst společně!']\n",
            " > Processing time: 70.63682246208191\n",
            " > Real-time factor: 6.336829251110313\n",
            "Generated: /content/tts_outputs/output_cs.wav\n",
            " > Text splitted to sentences.\n",
            "['مرحبًا، أنا إيسكوبوت، روبوت دردشة مصمم لمساعدة الطلاب في استفساراتهم العامة والأكاديمية.', 'دعونا نتعلم وننمو معًا!']\n",
            " > Processing time: 74.6476137638092\n",
            " > Real-time factor: 6.030820888629942\n",
            "Generated: /content/tts_outputs/output_ar.wav\n",
            " > Text splitted to sentences.\n",
            "['你好，我是 Iskobot——一个旨在帮助学生解答一般和学术问题的聊天机器人。', '让我们一起学习和成长吧！']\n",
            " > Processing time: 69.93726181983948\n",
            " > Real-time factor: 6.241567733808203\n",
            "Generated: /content/tts_outputs/output_zh-cn.wav\n",
            " > Text splitted to sentences.\n",
            "['こ ん に ち は   、   私   は   I s k o b o t   で す   —   学 生   の   一 般   的   な   質 問   や   学 問   的   な   問 い   に   答 え る   た め   に   設 計   さ   れ   た   チ ャ ッ ト   ボ ッ ト   で す   。', '一 緒   に   学 び   、   成 長   し   ま し ょ う   ！']\n",
            "[!] Warning: The text length exceeds the character limit of 71 for language 'ja', this might cause truncated audio.\n",
            " > Processing time: 91.15078616142273\n",
            " > Real-time factor: 6.330872753689683\n",
            "Generated: /content/tts_outputs/output_ja.wav\n",
            " > Text splitted to sentences.\n",
            "['Szia, én vagyok Iskobot—a chatbot, amely a diákoknak segít általános és akadémiai kérdéseikben.', 'Tanuljunk és növekedjünk együtt!']\n",
            " > Processing time: 70.50092387199402\n",
            " > Real-time factor: 5.912077748027976\n",
            "Generated: /content/tts_outputs/output_hu.wav\n",
            " > Text splitted to sentences.\n",
            "['안녕하세요, 저는 Iskobot입니다—학생들의 일반적인 질문과 학문적인 질문을 돕기 위해 설계된 챗봇입니다.', '함께 배우고 성장해요!']\n",
            " > Processing time: 71.12574863433838\n",
            " > Real-time factor: 6.614939420751624\n",
            "Generated: /content/tts_outputs/output_ko.wav\n",
            " > Text splitted to sentences.\n",
            "['नमस्ते, मैं इस्कोबोट हूं—एक चैटबॉट जिसे छात्रों की सामान्य और शैक्षणिक प्रश्नों में सहायता करने के लिए डिज़ाइन किया गया है। आइए साथ में सीखें और बढ़ें!']\n",
            " > Processing time: 79.19444274902344\n",
            " > Real-time factor: 6.172718817572418\n",
            "Generated: /content/tts_outputs/output_hi.wav\n"
          ]
        }
      ]
    }
  ]
}